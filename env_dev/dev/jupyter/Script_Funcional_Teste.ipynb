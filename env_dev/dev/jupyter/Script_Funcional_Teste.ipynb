{
 "cells": [
  {
   "cell_type": "code",
   "execution_count": 2,
   "id": "0344d4a6-06b5-4bf3-b4d1-67464d16efac",
   "metadata": {},
   "outputs": [],
   "source": [
    "from pyspark.sql import SparkSession  # type: ignore"
   ]
  },
  {
   "cell_type": "code",
   "execution_count": 3,
   "id": "20a67f35-aa9f-469b-8899-5f51bbeeff36",
   "metadata": {},
   "outputs": [
    {
     "name": "stderr",
     "output_type": "stream",
     "text": [
      "Setting default log level to \"WARN\".\n",
      "To adjust logging level use sc.setLogLevel(newLevel). For SparkR, use setLogLevel(newLevel).\n",
      "24/12/08 22:51:44 WARN NativeCodeLoader: Unable to load native-hadoop library for your platform... using builtin-java classes where applicable\n"
     ]
    },
    {
     "name": "stdout",
     "output_type": "stream",
     "text": [
      "+---------+---+\n",
      "|     Name|Age|\n",
      "+---------+---+\n",
      "|    Alice| 34|\n",
      "|      Bob| 45|\n",
      "|Catherine| 29|\n",
      "+---------+---+\n",
      "\n",
      "+-----+---+\n",
      "| Name|Age|\n",
      "+-----+---+\n",
      "|Alice| 34|\n",
      "|  Bob| 45|\n",
      "+-----+---+\n",
      "\n"
     ]
    }
   ],
   "source": [
    "def main():\n",
    "    spark = (\n",
    "        SparkSession.builder\n",
    "        .appName(\"Teste do Pyspark\") \n",
    "        .getOrCreate() \n",
    "    )\n",
    "\n",
    "    # Criar um DataFrame com alguns dados de exemplo\n",
    "    data = [(\"Alice\", 34), (\"Bob\", 45), (\"Catherine\", 29)]\n",
    "    columns = [\"Name\", \"Age\"]\n",
    "    df = spark.createDataFrame(data, columns)\n",
    "\n",
    "    # Mostrar os dados do DataFrame\n",
    "    df.show()\n",
    "\n",
    "    # Realizar uma operação simples: filtrar pessoas com idade acima de 30 anos\n",
    "    df_filtered = df.filter(df.Age > 30)\n",
    "    df_filtered.show()\n",
    "\n",
    "    # Parar a sessão Spark\n",
    "    spark.stop()\n",
    "\n",
    "if __name__ == \"__main__\":\n",
    "    main()"
   ]
  }
 ],
 "metadata": {
  "kernelspec": {
   "display_name": "Python 3 (ipykernel)",
   "language": "python",
   "name": "python3"
  },
  "language_info": {
   "codemirror_mode": {
    "name": "ipython",
    "version": 3
   },
   "file_extension": ".py",
   "mimetype": "text/x-python",
   "name": "python",
   "nbconvert_exporter": "python",
   "pygments_lexer": "ipython3",
   "version": "3.8.10"
  }
 },
 "nbformat": 4,
 "nbformat_minor": 5
}
